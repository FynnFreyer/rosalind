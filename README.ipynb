{
 "cells": [
  {
   "cell_type": "markdown",
   "metadata": {},
   "source": [
    "# [Rosalind](https://rosalind.info/problems/list-view/)\n",
    "\n",
    "My take on the rosalind.info bioinformatics stronghold problems\n",
    "\n",
    "## [Counting DNA Nucleotides](https://rosalind.info/problems/dna/)\n",
    "### Problem\n",
    "A [string](https://rosalind.info/glossary/string/) is simply an ordered collection of symbols selected from some\n",
    "[alphabet](https://rosalind.info/glossary/alphabet/) and formed into a word; the\n",
    "[length](https://rosalind.info/glossary/string-length/) of a string is the number of symbols that it contains.\n",
    "\n",
    "An example of a length 21 [DNA string](https://rosalind.info/glossary/dna-string/) (whose alphabet contains the symbols\n",
    "'A', 'C', 'G', and 'T') is \"ATGCTTCAGAAAGGTCTTACG.\"\n",
    "\n",
    "Given: A DNA string $s$ of length at most 1000 nt.  \n",
    "Return: Four integers (separated by spaces) counting the respective number of times that the symbols 'A', 'C', 'G', and\n",
    "'T' occur in $s$.\n",
    "\n",
    "### Sample Dataset and Output"
   ]
  },
  {
   "cell_type": "code",
   "execution_count": 20,
   "metadata": {},
   "outputs": [],
   "source": [
    "sample_data = 'AGCTTTTCATTCTGACTGCAACGGGCAATATGTCTCTGTGTGGATTAAAAAAAGAGTGTCTGATAGCAGC'\n",
    "sample_output = {'A': 20, 'C': 12, 'G': 17, 'T': 21}"
   ]
  },
  {
   "cell_type": "markdown",
   "metadata": {},
   "source": [
    "### Solution"
   ]
  },
  {
   "cell_type": "code",
   "execution_count": 21,
   "metadata": {},
   "outputs": [],
   "source": [
    "from typing import Dict\n",
    "from collections import defaultdict\n",
    "\n",
    "\n",
    "def count_occurrences(string: str) -> Dict[str, int]:\n",
    "    results_dict = defaultdict(lambda: 0)\n",
    "    for character in string:\n",
    "        results_dict[character] += 1\n",
    "    return dict(results_dict)\n",
    "\n",
    "\n",
    "assert count_occurrences(sample_data) == sample_output"
   ]
  },
  {
   "cell_type": "markdown",
   "metadata": {},
   "source": [
    "## [Transcribing DNA into RNA](https://rosalind.info/problems/rna/)\n",
    "### Problem\n",
    "\n",
    "An [RNA string](https://rosalind.info/glossary/rna-string/) is a [string](https://rosalind.info/glossary/string/)\n",
    "formed from the [alphabet](https://rosalind.info/glossary/alphabet/) containing 'A', 'C', 'G', and 'U'.\n",
    "\n",
    "Given a [DNA string](https://rosalind.info/glossary/dna-string/) $t$ corresponding to a coding strand, its transcribed\n",
    "[RNA string](https://rosalind.info/glossary/rna-string/) $u$ is formed by replacing all occurrences of 'T' in $t$ with\n",
    "'U' in $u$.\n",
    "\n",
    "Given: A [DNA string](https://rosalind.info/glossary/dna-string/) $t$ having\n",
    "[length](https://rosalind.info/glossary/string-length/) at most 1000 [nt](https://rosalind.info/glossary/nucleotide/).\n",
    "\n",
    "Return: The transcribed RNA string of $t$.\n",
    "\n",
    "### Sample Dataset and Output"
   ]
  },
  {
   "cell_type": "code",
   "execution_count": 22,
   "metadata": {},
   "outputs": [],
   "source": [
    "sample_data = 'GATGGAACTTGACTACGTAAATT'\n",
    "sample_output = 'GAUGGAACUUGACUACGUAAAUU'"
   ]
  },
  {
   "cell_type": "markdown",
   "metadata": {},
   "source": [
    "### Solution"
   ]
  },
  {
   "cell_type": "code",
   "execution_count": 23,
   "metadata": {},
   "outputs": [],
   "source": [
    "def transcribe_dna2rna(dna_string: str) -> str:\n",
    "    rna_string = dna_string.replace('T', 'U')\n",
    "    # or e.g. with a list comprehension\n",
    "    # rna_string = [base if base != 'T' else 'U' for base in dna_string] return rna_string\n",
    "    return rna_string\n",
    "\n",
    "\n",
    "assert transcribe_dna2rna(sample_data) == sample_output"
   ]
  },
  {
   "cell_type": "markdown",
   "metadata": {},
   "source": [
    "## Rabbits and Recurrence Relations\n",
    "\n",
    "### Problem\n",
    "\n",
    "A [sequence](https://rosalind.info/glossary/sequence/) is an ordered collection of objects (usually numbers), which\n",
    "are allowed to repeat. Sequences can be finite or infinite. Two examples are the finite sequence $(\\pi,−\\sqrt{2},0,\\pi)$\n",
    " and the infinite sequence of odd numbers $(1,3,5,7,9,…)$.\n",
    "\n",
    "We use the notation $a_n$ to represent the $n$-th term of a sequence.\n",
    "\n",
    "A [recurrence relation](https://rosalind.info/glossary/recurrence-relation/) is a way of defining the terms of a\n",
    "sequence with respect to the values of previous terms. In the case of Fibonacci's rabbits from the introduction, any\n",
    "given month will contain the rabbits that were alive the previous month, plus any new offspring. A key observation is\n",
    "that the number of offspring in any month is equal to the number of rabbits that were alive two months prior. As a\n",
    "result, if $F_n$ represents the number of rabbit pairs alive after the $n$-th month, then we obtain the\n",
    "[Fibonacci sequence](https://rosalind.info/glossary/fibonacci-sequence/) having terms $F_n$ that are defined by the\n",
    "recurrence relation $F_n=F_{n−1}+F_{n−2}$ (with $F_1=F_2=1$ to initiate the sequence). Although the sequence bears\n",
    "Fibonacci's name, it was known to Indian mathematicians over two millennia ago.\n",
    "\n",
    "When finding the $n$-th term of a sequence defined by a recurrence relation, we can simply use the recurrence relation\n",
    "to generate terms for progressively larger values of $n$. This problem introduces us to the computational technique of\n",
    "[dynamic programming](https://rosalind.info/glossary/dynamic-programming/), which successively builds up solutions by\n",
    "using the answers to smaller cases.\n",
    "\n",
    "Given: Positive integers $n\\leq40$ and $k\\leq5$.\n",
    "\n",
    "Return: The total number of rabbit pairs that will be present after $n$ months, if we begin with 1 pair and in each\n",
    "generation, every pair of reproduction-age rabbits produces a litter of $k$ rabbit pairs (instead of only 1 pair).\n",
    "\n",
    "### Sample Dataset and Output"
   ]
  },
  {
   "cell_type": "code",
   "execution_count": 24,
   "metadata": {},
   "outputs": [],
   "source": [
    "n, k = 5, 3\n",
    "t = 19"
   ]
  },
  {
   "cell_type": "markdown",
   "metadata": {},
   "source": [
    "### Solution"
   ]
  },
  {
   "cell_type": "code",
   "execution_count": 25,
   "metadata": {},
   "outputs": [],
   "source": [
    "def rabbit_recurrence(months: int, litter_size: int) -> int:\n",
    "    reproductive_rabbits = 0    # F_0\n",
    "    newborn_rabbits = 1         # F_1\n",
    "\n",
    "    for _ in range(months):\n",
    "        new_litter = reproductive_rabbits * litter_size\n",
    "        maturing_rabbits = newborn_rabbits\n",
    "        reproductive_rabbits += maturing_rabbits\n",
    "        newborn_rabbits = new_litter\n",
    "\n",
    "    return reproductive_rabbits\n",
    "\n",
    "assert rabbit_recurrence(n, k) == t"
   ]
  },
  {
   "cell_type": "code",
   "execution_count": 26,
   "metadata": {},
   "outputs": [
    {
     "ename": "AssertionError",
     "evalue": "",
     "output_type": "error",
     "traceback": [
      "\u001B[0;31m---------------------------------------------------------------------------\u001B[0m",
      "\u001B[0;31mAssertionError\u001B[0m                            Traceback (most recent call last)",
      "\u001B[0;32m<ipython-input-26-a54d4c2fb7c2>\u001B[0m in \u001B[0;36m<module>\u001B[0;34m\u001B[0m\n\u001B[0;32m----> 1\u001B[0;31m \u001B[0;32massert\u001B[0m \u001B[0;32mTrue\u001B[0m \u001B[0;34m==\u001B[0m \u001B[0;32mFalse\u001B[0m\u001B[0;34m\u001B[0m\u001B[0;34m\u001B[0m\u001B[0m\n\u001B[0m\u001B[1;32m      2\u001B[0m \u001B[0;34m\u001B[0m\u001B[0m\n",
      "\u001B[0;31mAssertionError\u001B[0m: "
     ]
    }
   ],
   "source": [
    "assert True == False\n"
   ]
  }
 ],
 "metadata": {
  "kernelspec": {
   "name": "pycharm-37ae5621",
   "language": "python",
   "display_name": "PyCharm (rosalind)"
  },
  "language_info": {
   "codemirror_mode": {
    "name": "ipython",
    "version": 3
   },
   "file_extension": ".py",
   "mimetype": "text/x-python",
   "name": "python",
   "nbconvert_exporter": "python",
   "pygments_lexer": "ipython3",
   "version": "3.8.10"
  }
 },
 "nbformat": 4,
 "nbformat_minor": 4
}